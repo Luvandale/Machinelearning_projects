{
  "nbformat": 4,
  "nbformat_minor": 0,
  "metadata": {
    "colab": {
      "name": "Linear regression project.ipynb",
      "provenance": []
    },
    "kernelspec": {
      "name": "python3",
      "display_name": "Python 3"
    }
  },
  "cells": [
    {
      "cell_type": "code",
      "metadata": {
        "id": "Gphu-C5vg5hr",
        "colab_type": "code",
        "colab": {}
      },
      "source": [
        "# importing of python libraries\n",
        "import pandas as pd\n",
        "import numpy as np\n",
        "import sklearn\n",
        "from sklearn import linear_model\n",
        "from sklearn.utils import shuffle\n",
        "import tensorflow as tf "
      ],
      "execution_count": 0,
      "outputs": []
    },
    {
      "cell_type": "code",
      "metadata": {
        "id": "wWYReniZnW1k",
        "colab_type": "code",
        "colab": {}
      },
      "source": [
        "#  reading data from our dataset using sep since the columns arae separated by semicolons\n",
        "df = pd.read_csv('/content/student-mat.csv',sep = ';')"
      ],
      "execution_count": 0,
      "outputs": []
    },
    {
      "cell_type": "code",
      "metadata": {
        "id": "JmznaOpLqLIR",
        "colab_type": "code",
        "colab": {
          "base_uri": "https://localhost:8080/",
          "height": 153
        },
        "outputId": "e5731b58-0e18-46e1-c060-93840a9ac393"
      },
      "source": [
        "# viewing the columns available in our data frame\n",
        "print(df.head())"
      ],
      "execution_count": 3,
      "outputs": [
        {
          "output_type": "stream",
          "text": [
            "  school sex  age address famsize Pstatus  ...  Walc  health absences  G1  G2  G3\n",
            "0     GP   F   18       U     GT3       A  ...     1       3        6   5   6   6\n",
            "1     GP   F   17       U     GT3       T  ...     1       3        4   5   5   6\n",
            "2     GP   F   15       U     LE3       T  ...     3       3       10   7   8  10\n",
            "3     GP   F   15       U     GT3       T  ...     1       5        2  15  14  15\n",
            "4     GP   F   16       U     GT3       T  ...     2       5        4   6  10  10\n",
            "\n",
            "[5 rows x 33 columns]\n"
          ],
          "name": "stdout"
        }
      ]
    },
    {
      "cell_type": "code",
      "metadata": {
        "id": "ofKaLAV-tf3e",
        "colab_type": "code",
        "colab": {}
      },
      "source": [
        "# dropping the unecessary columns and selecting the ones that are useful\n",
        "# reason we did trimming rather than dropping is because we have very many useless columns compared to useful ones\n",
        "df = df[['G1','G2','G3','studytime','failures','absences']]\n"
      ],
      "execution_count": 0,
      "outputs": []
    },
    {
      "cell_type": "code",
      "metadata": {
        "id": "2On7u5q7vvsc",
        "colab_type": "code",
        "colab": {}
      },
      "source": [
        "# defining the attribute we are trying to predict\n",
        "# use numpy to create two arrays for the features and label\n",
        "predict = 'G3'\n",
        "# features\n",
        "x = np.array(df.drop([predict],1))\n",
        "# labels\n",
        "y = np.array(df[predict])"
      ],
      "execution_count": 0,
      "outputs": []
    },
    {
      "cell_type": "code",
      "metadata": {
        "id": "QRCl9C4qzW4-",
        "colab_type": "code",
        "colab": {}
      },
      "source": [
        "# splitting our data into train and test data\n",
        "x_train,x_test,y_train,y_test = sklearn.model_selection.train_test_split(x,y,test_size = 0.1)"
      ],
      "execution_count": 0,
      "outputs": []
    },
    {
      "cell_type": "markdown",
      "metadata": {
        "id": "y_5swJwJ9UCU",
        "colab_type": "text"
      },
      "source": [
        "Algorithim implementation"
      ]
    },
    {
      "cell_type": "code",
      "metadata": {
        "id": "F3Oknt5k1K8_",
        "colab_type": "code",
        "colab": {}
      },
      "source": [
        "# defining the model that we are going to use\n",
        "model = linear_model.LinearRegression()"
      ],
      "execution_count": 0,
      "outputs": []
    },
    {
      "cell_type": "code",
      "metadata": {
        "id": "-LZFCAox-vRx",
        "colab_type": "code",
        "colab": {
          "base_uri": "https://localhost:8080/",
          "height": 34
        },
        "outputId": "0d9f24ce-038a-440e-c0e9-ea0298ef2456"
      },
      "source": [
        "# train our model and check for accuracy\n",
        "model.fit(x_train, y_train)\n",
        "accuracy = linear.score(x_test,y_test)\n",
        "print(accuracy)"
      ],
      "execution_count": 17,
      "outputs": [
        {
          "output_type": "stream",
          "text": [
            "0.8914801538689422\n"
          ],
          "name": "stdout"
        }
      ]
    },
    {
      "cell_type": "code",
      "metadata": {
        "id": "nlAtBudhCW53",
        "colab_type": "code",
        "colab": {
          "base_uri": "https://localhost:8080/",
          "height": 51
        },
        "outputId": "f7322932-a09c-4017-b082-282503662d63"
      },
      "source": [
        "# viewing constants\n",
        "print(\"This is linear coefficient\" , linear.coef_)\n",
        "print( \"This is the intercept\" , linear.intercept_)"
      ],
      "execution_count": 15,
      "outputs": [
        {
          "output_type": "stream",
          "text": [
            "This is linear coefficient [ 0.17111034  0.9682405  -0.1636233  -0.3065967   0.04282321]\n",
            "This is the intercept -1.6666093761940388\n"
          ],
          "name": "stdout"
        }
      ]
    },
    {
      "cell_type": "code",
      "metadata": {
        "id": "9GCAUCc9EcuL",
        "colab_type": "code",
        "colab": {
          "base_uri": "https://localhost:8080/",
          "height": 697
        },
        "outputId": "7cb0c7d0-c00e-44d8-823e-2a3bf680e854"
      },
      "source": [
        "# prediction of specific students\n",
        "specifics = linear.predict(x_test)\n",
        "for i in range(len(specifics)):\n",
        "  print(specifics[i],x_test[i],y_test[i])"
      ],
      "execution_count": 18,
      "outputs": [
        {
          "output_type": "stream",
          "text": [
            "15.645256318271691 [16 15  1  0  5] 16\n",
            "9.57094526351768 [10 10  2  0  4] 10\n",
            "14.661234979505512 [11 15  1  0  2] 15\n",
            "8.431776925171292 [8 9 2 0 8] 10\n",
            "14.917809240570655 [13 15  1  0  0] 15\n",
            "20.07455504990555 [18 19  1  0 10] 19\n",
            "3.574898898866012 [7 5 3 1 0] 0\n",
            "6.2736928346298635 [7 7 1 0 3] 8\n",
            "13.81969714057309 [11 12  2  0 54] 11\n",
            "15.695749069903478 [16 15  2  0 10] 15\n",
            "15.09640662097884 [15 15  2  0  0] 15\n",
            "17.04037465770569 [16 17  3  0  0] 17\n",
            "13.52264226004989 [15 14  3  2  4] 15\n",
            "15.489302556957774 [16 15  3  0  9] 16\n",
            "12.981875748225027 [10 13  1  0 12] 12\n",
            "14.299458965223423 [15 14  2  0  4] 14\n",
            "15.687897027278431 [17 15  1  0  2] 15\n",
            "7.918080897772484 [7 9 2 0 0] 8\n",
            "8.602704764710603 [10  9  2  0  4] 9\n",
            "15.267516962274325 [16 15  2  0  0] 15\n",
            "11.88563592833076 [12 12  2  1 12] 13\n",
            "8.595400227354082 [8 9 1 0 8] 10\n",
            "12.903351362299542 [13 13  2  0  2] 13\n",
            "8.26048408211963 [8 9 2 0 4] 10\n",
            "17.931810041101862 [17 17  2  0 13] 17\n",
            "6.4096495060313075 [8 7 2 0 6] 9\n",
            "13.778458400468091 [12 14  1  0  0] 15\n",
            "7.891403530481018 [10  8  2  0 10] 8\n",
            "9.221055040057836 [ 8 10  1  0  0] 11\n",
            "8.569270365331143 [ 8  8  1  0 30] 8\n",
            "3.396666521970179 [3 5 2 1 8] 5\n",
            "14.470751808275082 [15 14  2  0  8] 14\n",
            "5.441591508980404 [ 7  6  2  0 10] 6\n",
            "6.458282402108443 [ 7  8  2  3 10] 10\n",
            "18.564951892918316 [18 18  3  0  5] 19\n",
            "12.021304790286822 [10 12  2  0 16] 11\n",
            "15.010942701209181 [14 15  2  0  2] 15\n",
            "4.216776749108185 [ 5  5  2  0 12] 5\n",
            "9.485298841991849 [10 10  2  0  2] 11\n",
            "8.055026832663808 [10  8  1  0 10] 9\n"
          ],
          "name": "stdout"
        }
      ]
    }
  ]
}